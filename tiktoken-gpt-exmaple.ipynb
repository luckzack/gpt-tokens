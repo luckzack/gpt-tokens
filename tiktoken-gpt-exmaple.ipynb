{
 "cells": [
  {
   "cell_type": "code",
   "execution_count": null,
   "metadata": {},
   "outputs": [],
   "source": [
    "!pip install tiktoken\n",
    "!pip install langdetect"
   ]
  },
  {
   "cell_type": "code",
   "execution_count": 2,
   "metadata": {},
   "outputs": [],
   "source": [
    "import tiktoken\n",
    "import langdetect"
   ]
  },
  {
   "cell_type": "code",
   "execution_count": 3,
   "metadata": {},
   "outputs": [
    {
     "name": "stdout",
     "output_type": "stream",
     "text": [
      "['gpt2', 'r50k_base', 'p50k_base', 'p50k_edit', 'cl100k_base', 'o200k_base']\n"
     ]
    }
   ],
   "source": [
    "# tiktoken 框架下的词表\n",
    "\n",
    "print(tiktoken.list_encoding_names())"
   ]
  },
  {
   "cell_type": "code",
   "execution_count": 4,
   "metadata": {},
   "outputs": [
    {
     "name": "stdout",
     "output_type": "stream",
     "text": [
      "<Encoding 'o200k_base'> <Encoding 'cl100k_base'> <Encoding 'cl100k_base'>\n",
      "200019 100277 100277\n"
     ]
    }
   ],
   "source": [
    "# gpt-4o, gpt-4, gpt-3.5 使用的词表以及词表大小\n",
    "\n",
    "enc_4o = tiktoken.encoding_for_model(\"gpt-4o\")\n",
    "enc_4 = tiktoken.encoding_for_model(\"gpt-4\")\n",
    "enc_35 = tiktoken.encoding_for_model(\"gpt-3.5\")\n",
    "\n",
    "print(enc_4o, enc_4, enc_35)\n",
    "\n",
    "\n",
    "# 词表大小\n",
    "print(enc_4o.n_vocab, enc_4.n_vocab, enc_35.n_vocab)\n"
   ]
  },
  {
   "cell_type": "code",
   "execution_count": 20,
   "metadata": {},
   "outputs": [
    {
     "name": "stdout",
     "output_type": "stream",
     "text": [
      "@1 200019\n"
     ]
    }
   ],
   "source": [
    "T = tiktoken.get_encoding(\"o200k_base\")\n",
    "print(\"@1\", T.n_vocab)\n",
    "\n",
    "# T = tiktoken.get_encoding(\"cl100k_base\")\n",
    "# print(\"@1\", T.n_vocab)"
   ]
  },
  {
   "cell_type": "code",
   "execution_count": 21,
   "metadata": {},
   "outputs": [
    {
     "name": "stdout",
     "output_type": "stream",
     "text": [
      "@2 200000\n"
     ]
    }
   ],
   "source": [
    "\n",
    "length_dict = {}\n",
    "\n",
    "for i in range(T.n_vocab):\n",
    "    try:\n",
    "        length_dict[i] = len(T.decode([i]))\n",
    "    except:\n",
    "        pass\n",
    "\n",
    "print(\"@2\", len(length_dict))    \n",
    "      \n"
   ]
  },
  {
   "cell_type": "code",
   "execution_count": 22,
   "metadata": {},
   "outputs": [
    {
     "name": "stdout",
     "output_type": "stream",
     "text": [
      "185118 _日本毛片免费视频观看\n",
      "116852  中国福利彩票天天\n",
      "128031 久久免费热在线精品\n",
      "154809 无码不卡高清免费v\n",
      "172750  大发快三大小单双\n",
      "177431 给主人留下些什么吧\n",
      "181679  qq的天天中彩票\n",
      "184969 _日本一级特黄大片\n",
      "187822  大发快三开奖结果\n",
      "49649  彩神争霸邀请码\n",
      "89409 免费视频在线观看\n",
      "122333 无码不卡高清免费\n",
      "122712 无码一区二区三区\n",
      "128600  大发时时彩计划\n",
      "133274 】【：】【“】【\n",
      "135161  大发时时彩开奖\n",
      "149168  大发时时彩怎么\n",
      "150771  彩神争霸电脑版\n",
      "160029  大发快三是国家\n",
      "160131  大发快三是不是\n",
      "176039 精品一区二区三区\n",
      "186348  大发快三是什么\n",
      "187516  大发快三走势图\n",
      "187810 在线观看中文字幕\n",
      "191179  大发快三怎么看\n",
      "193825 中国特色社会主义\n",
      "194062  彩神争霸是不是\n",
      "70506  彩神争霸大发\n",
      "74929  大发时时彩是\n",
      "78249  大发彩票官网\n",
      "95565  大发快三怎么\n",
      "99813  大发快三开奖\n",
      "101303  大发游戏官网\n",
      "112399  在天天中彩票\n",
      "115319  大发快三和值\n",
      "134370 一本道高清无码\n",
      "136533  大发快三计划\n",
      "136840 久久综合久久爱\n",
      "138985 下载安装到手机\n",
      "141777  重庆时时彩的\n",
      "143802  大发快三官网\n",
      "144879  大发快三豹子\n",
      "155245 中华人民共和国\n",
      "156153  彩神争霸网站\n",
      "160344  中国福利彩票\n",
      "160540 彩神争霸邀请码\n",
      "161007  北京赛车如何\n",
      "166783  一级a做爰片\n",
      "170426  大发快三如何\n",
      "178597  久久精品国产\n",
      "182584 热这里只有精品\n",
      "187784  重庆时时彩杀\n",
      "189467  亚洲男人天堂\n",
      "199053  北京赛车投注\n",
      "12284  大发时时彩\n",
      "31385 视频在线观看\n",
      "34342 一区二区三区\n",
      "36308 的天天中彩票\n",
      "46373  大发快三是\n",
      "50020  彩神争霸是\n",
      "86301 视频免费观看\n",
      "86435 《凤凰大参考\n",
      "92481  菲律宾申博\n",
      "95335 一级特黄大片\n",
      "95376 视频在线播放\n",
      "98829 。...\n",
      "\n",
      "\n",
      "98909  彩神争霸的\n",
      "102670 免费视频观看\n",
      "107781 在线观看视频\n",
      "109323  大发快三的\n",
      "114332 电影在线观看\n",
      "117836 免费资料大全\n",
      "122693  北京赛车的\n",
      "126418 无码中文字幕\n",
      "128539 在线观看免费\n",
      "128805 开奖结果查询\n",
      "132560 久久国产视频\n",
      "136710 免费观看视频\n",
      "138225 开奖现场直播\n",
      "138258 在线视频观看\n",
      "149361  北京赛车群\n",
      "157965  亚历山大发\n",
      "170040  香港赛马会\n",
      "174322 娱乐官方网站\n",
      "175645 中文字幕无码\n",
      "177689 免费在线观看\n",
      "180574 免费人成视频\n",
      "180660 中文字幕在线\n",
      "182251 高清在线观看\n",
      "184003 人片在线观看\n",
      "184694 久久综合久久\n",
      "186005 网站免费观看\n",
      "186328 。\n",
      "\n",
      "\n",
      "\n",
      "\n",
      "\n",
      "186863 手机在线观看\n",
      "187540  日本一本道\n",
      "195091 在线视频精品\n",
      "195213  大发彩票网\n",
      "196834 黄色录像影片\n",
      "196877  人人中彩票\n",
      "196917 娱乐彩票注册\n"
     ]
    }
   ],
   "source": [
    "# Sort by length\n",
    "length_dict = dict(sorted(length_dict.items(), key=lambda item: -item[1]))\n",
    "\n",
    "# Print the top 100 chinese words\n",
    "tot = 0\n",
    "for item in length_dict:\n",
    "    try:\n",
    "        #print(f\"detect [{item}] -> {T.decode([item])}\")\n",
    "        if langdetect.detect(T.decode([item])) == \"zh-cn\":\n",
    "            print(item, T.decode([item]))\n",
    "            tot += 1\n",
    "    except Exception as e:\n",
    "        #print(\"Error detecting language for\", item, e)\n",
    "        pass\n",
    "    if tot == 100:\n",
    "        break"
   ]
  }
 ],
 "metadata": {
  "kernelspec": {
   "display_name": "Python 3",
   "language": "python",
   "name": "python3"
  },
  "language_info": {
   "codemirror_mode": {
    "name": "ipython",
    "version": 3
   },
   "file_extension": ".py",
   "mimetype": "text/x-python",
   "name": "python",
   "nbconvert_exporter": "python",
   "pygments_lexer": "ipython3",
   "version": "3.9.7"
  }
 },
 "nbformat": 4,
 "nbformat_minor": 2
}
