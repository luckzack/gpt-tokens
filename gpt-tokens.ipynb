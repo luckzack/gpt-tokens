{
 "cells": [
  {
   "cell_type": "code",
   "execution_count": null,
   "metadata": {},
   "outputs": [],
   "source": [
    "!pip install tiktoken\n",
    "!pip install langdetect"
   ]
  },
  {
   "cell_type": "code",
   "execution_count": 1,
   "metadata": {},
   "outputs": [],
   "source": [
    "import tiktoken\n",
    "import langdetect"
   ]
  },
  {
   "cell_type": "code",
   "execution_count": 2,
   "metadata": {},
   "outputs": [
    {
     "name": "stdout",
     "output_type": "stream",
     "text": [
      "['gpt2', 'r50k_base', 'p50k_base', 'p50k_edit', 'cl100k_base', 'o200k_base']\n"
     ]
    }
   ],
   "source": [
    "# tiktoken 框架下的词表\n",
    "\n",
    "print(tiktoken.list_encoding_names())"
   ]
  },
  {
   "cell_type": "code",
   "execution_count": 3,
   "metadata": {},
   "outputs": [
    {
     "name": "stdout",
     "output_type": "stream",
     "text": [
      "<Encoding 'o200k_base'> <Encoding 'cl100k_base'> <Encoding 'cl100k_base'>\n",
      "200019 100277 100277\n"
     ]
    }
   ],
   "source": [
    "# gpt-4o, gpt-4, gpt-3.5 使用的词表以及词表大小\n",
    "\n",
    "enc_4o = tiktoken.encoding_for_model(\"gpt-4o\")\n",
    "enc_4 = tiktoken.encoding_for_model(\"gpt-4\")\n",
    "enc_35 = tiktoken.encoding_for_model(\"gpt-3.5\")\n",
    "\n",
    "print(enc_4o, enc_4, enc_35)\n",
    "\n",
    "\n",
    "# 词表大小\n",
    "print(enc_4o.n_vocab, enc_4.n_vocab, enc_35.n_vocab)\n"
   ]
  },
  {
   "cell_type": "markdown",
   "metadata": {},
   "source": [
    "# 查看 gpt-4o 词表"
   ]
  },
  {
   "cell_type": "code",
   "execution_count": 3,
   "metadata": {},
   "outputs": [
    {
     "name": "stdout",
     "output_type": "stream",
     "text": [
      "@1 200019\n"
     ]
    }
   ],
   "source": [
    "T = tiktoken.get_encoding(\"o200k_base\")\n",
    "print(\"@1\", T.n_vocab)\n",
    "\n",
    "# T = tiktoken.get_encoding(\"cl100k_base\")\n",
    "# print(\"@1\", T.n_vocab)"
   ]
  },
  {
   "cell_type": "code",
   "execution_count": null,
   "metadata": {},
   "outputs": [],
   "source": [
    "\n",
    "length_dict = {}\n",
    "\n",
    "for i in range(T.n_vocab):\n",
    "    try:\n",
    "        length_dict[i] = len(T.decode([i]))\n",
    "        print(i, T.decode([i]), length_dict[i])\n",
    "    except:\n",
    "        pass\n",
    "\n",
    "print(\"@2\", len(length_dict))    \n",
    "      \n"
   ]
  },
  {
   "cell_type": "code",
   "execution_count": 8,
   "metadata": {},
   "outputs": [
    {
     "data": {
      "text/plain": [
       "[Token(idx=6786, text=' 大发快三', lang='zh-cn', length=5),\n",
       " Token(idx=4046, text='�京赛车', lang='zh-cn', length=4),\n",
       " Token(idx=1497, text='。\\n\\n', lang='zh-cn', length=3),\n",
       " Token(idx=3606, text=' 大发', lang='zh-cn', length=3),\n",
       " Token(idx=3634, text='时时彩', lang='zh-cn', length=3),\n",
       " Token(idx=2865, text='大发', lang='zh-cn', length=2),\n",
       " Token(idx=3414, text='。\\n', lang='zh-cn', length=2),\n",
       " Token(idx=3447, text='在线', lang='zh-cn', length=2),\n",
       " Token(idx=3569, text='时时', lang='zh-cn', length=2),\n",
       " Token(idx=3738, text='争霸', lang='zh-cn', length=2),\n",
       " Token(idx=3752, text='赛车', lang='zh-cn', length=2),\n",
       " Token(idx=3845, text='娱乐', lang='zh-cn', length=2),\n",
       " Token(idx=3939, text='视频', lang='zh-cn', length=2),\n",
       " Token(idx=4974, text='官网', lang='zh-cn', length=2),\n",
       " Token(idx=6199, text='亚洲', lang='zh-cn', length=2),\n",
       " Token(idx=6305, text='久久', lang='zh-cn', length=2),\n",
       " Token(idx=6769, text='网站', lang='zh-cn', length=2),\n",
       " Token(idx=6972, text='开奖', lang='zh-cn', length=2),\n",
       " Token(idx=7525, text='注册', lang='zh-cn', length=2),\n",
       " Token(idx=8085, text='精品', lang='zh-cn', length=2),\n",
       " Token(idx=8994, text='网址', lang='zh-cn', length=2),\n",
       " Token(idx=9016, text='计划', lang='zh-cn', length=2),\n",
       " Token(idx=788, text='。', lang='zh-cn', length=1),\n",
       " Token(idx=979, text='，', lang='zh-cn', length=1),\n",
       " Token(idx=1395, text='、', lang='zh-cn', length=1),\n",
       " Token(idx=1404, text='中', lang='zh-cn', length=1),\n",
       " Token(idx=1616, text='的', lang='zh-cn', length=1),\n",
       " Token(idx=1640, text='大', lang='zh-cn', length=1),\n",
       " Token(idx=1728, text='时', lang='zh-cn', length=1),\n",
       " Token(idx=1817, text='：', lang='zh-cn', length=1),\n",
       " Token(idx=1829, text='网', lang='zh-cn', length=1),\n",
       " Token(idx=1995, text='人', lang='zh-cn', length=1),\n",
       " Token(idx=2178, text='在', lang='zh-cn', length=1),\n",
       " Token(idx=2233, text='发', lang='zh-cn', length=1),\n",
       " Token(idx=2432, text='一', lang='zh-cn', length=1),\n",
       " Token(idx=2810, text='年', lang='zh-cn', length=1),\n",
       " Token(idx=2855, text='线', lang='zh-cn', length=1),\n",
       " Token(idx=2875, text='乐', lang='zh-cn', length=1),\n",
       " Token(idx=3044, text='开', lang='zh-cn', length=1),\n",
       " Token(idx=3052, text='国', lang='zh-cn', length=1),\n",
       " Token(idx=3178, text='车', lang='zh-cn', length=1),\n",
       " Token(idx=3221, text='是', lang='zh-cn', length=1),\n",
       " Token(idx=3355, text='视', lang='zh-cn', length=1),\n",
       " Token(idx=3495, text='）', lang='zh-cn', length=1),\n",
       " Token(idx=3507, text='久', lang='zh-cn', length=1),\n",
       " Token(idx=3511, text='赛', lang='zh-cn', length=1),\n",
       " Token(idx=3603, text='（', lang='zh-cn', length=1),\n",
       " Token(idx=3614, text='争', lang='zh-cn', length=1),\n",
       " Token(idx=3715, text='频', lang='zh-cn', length=1),\n",
       " Token(idx=3729, text='娱', lang='zh-cn', length=1),\n",
       " Token(idx=3985, text='奖', lang='zh-cn', length=1),\n",
       " Token(idx=4079, text='码', lang='zh-cn', length=1),\n",
       " Token(idx=4302, text='费', lang='zh-cn', length=1),\n",
       " Token(idx=4447, text='吗', lang='zh-cn', length=1),\n",
       " Token(idx=4696, text='机', lang='zh-cn', length=1),\n",
       " Token(idx=4785, text='号', lang='zh-cn', length=1),\n",
       " Token(idx=4810, text='片', lang='zh-cn', length=1),\n",
       " Token(idx=4855, text='注', lang='zh-cn', length=1),\n",
       " Token(idx=4893, text='亚', lang='zh-cn', length=1),\n",
       " Token(idx=4941, text='产', lang='zh-cn', length=1),\n",
       " Token(idx=5243, text='区', lang='zh-cn', length=1),\n",
       " Token(idx=5247, text='站', lang='zh-cn', length=1),\n",
       " Token(idx=5704, text='无', lang='zh-cn', length=1),\n",
       " Token(idx=5719, text='电', lang='zh-cn', length=1),\n",
       " Token(idx=5779, text='观', lang='zh-cn', length=1),\n",
       " Token(idx=5803, text='图', lang='zh-cn', length=1),\n",
       " Token(idx=5832, text='址', lang='zh-cn', length=1),\n",
       " Token(idx=5903, text='现', lang='zh-cn', length=1),\n",
       " Token(idx=5920, text='个', lang='zh-cn', length=1),\n",
       " Token(idx=6016, text='会', lang='zh-cn', length=1),\n",
       " Token(idx=6141, text='载', lang='zh-cn', length=1),\n",
       " Token(idx=6209, text='为', lang='zh-cn', length=1),\n",
       " Token(idx=6292, text='庆', lang='zh-cn', length=1),\n",
       " Token(idx=6414, text='爱', lang='zh-cn', length=1),\n",
       " Token(idx=6436, text='精', lang='zh-cn', length=1),\n",
       " Token(idx=6573, text='户', lang='zh-cn', length=1),\n",
       " Token(idx=6682, text='计', lang='zh-cn', length=1),\n",
       " Token(idx=6727, text='来', lang='zh-cn', length=1),\n",
       " Token(idx=6767, text='游', lang='zh-cn', length=1),\n",
       " Token(idx=6848, text='万', lang='zh-cn', length=1),\n",
       " Token(idx=6876, text='县', lang='zh-cn', length=1),\n",
       " Token(idx=7073, text='《', lang='zh-cn', length=1),\n",
       " Token(idx=7074, text='体', lang='zh-cn', length=1),\n",
       " Token(idx=7135, text='数', lang='zh-cn', length=1),\n",
       " Token(idx=7137, text='册', lang='zh-cn', length=1),\n",
       " Token(idx=7697, text='经', lang='zh-cn', length=1),\n",
       " Token(idx=7901, text='资', lang='zh-cn', length=1),\n",
       " Token(idx=7910, text='真', lang='zh-cn', length=1),\n",
       " Token(idx=7977, text='博', lang='zh-cn', length=1),\n",
       " Token(idx=8061, text='好', lang='zh-cn', length=1),\n",
       " Token(idx=8300, text='点', lang='zh-cn', length=1),\n",
       " Token(idx=8327, text='这', lang='zh-cn', length=1),\n",
       " Token(idx=8377, text='动', lang='zh-cn', length=1),\n",
       " Token(idx=8546, text='业', lang='zh-cn', length=1),\n",
       " Token(idx=8549, text='间', lang='zh-cn', length=1),\n",
       " Token(idx=8590, text='学', lang='zh-cn', length=1),\n",
       " Token(idx=8593, text='级', lang='zh-cn', length=1),\n",
       " Token(idx=8816, text='买', lang='zh-cn', length=1),\n",
       " Token(idx=8915, text='关', lang='zh-cn', length=1),\n",
       " Token(idx=9038, text='清', lang='zh-cn', length=1)]"
      ]
     },
     "execution_count": 8,
     "metadata": {},
     "output_type": "execute_result"
    }
   ],
   "source": []
  },
  {
   "cell_type": "code",
   "execution_count": 22,
   "metadata": {},
   "outputs": [
    {
     "name": "stdout",
     "output_type": "stream",
     "text": [
      "185118 _日本毛片免费视频观看\n",
      "116852  中国福利彩票天天\n",
      "128031 久久免费热在线精品\n",
      "154809 无码不卡高清免费v\n",
      "172750  大发快三大小单双\n",
      "177431 给主人留下些什么吧\n",
      "181679  qq的天天中彩票\n",
      "184969 _日本一级特黄大片\n",
      "187822  大发快三开奖结果\n",
      "49649  彩神争霸邀请码\n",
      "89409 免费视频在线观看\n",
      "122333 无码不卡高清免费\n",
      "122712 无码一区二区三区\n",
      "128600  大发时时彩计划\n",
      "133274 】【：】【“】【\n",
      "135161  大发时时彩开奖\n",
      "149168  大发时时彩怎么\n",
      "150771  彩神争霸电脑版\n",
      "160029  大发快三是国家\n",
      "160131  大发快三是不是\n",
      "176039 精品一区二区三区\n",
      "186348  大发快三是什么\n",
      "187516  大发快三走势图\n",
      "187810 在线观看中文字幕\n",
      "191179  大发快三怎么看\n",
      "193825 中国特色社会主义\n",
      "194062  彩神争霸是不是\n",
      "70506  彩神争霸大发\n",
      "74929  大发时时彩是\n",
      "78249  大发彩票官网\n",
      "95565  大发快三怎么\n",
      "99813  大发快三开奖\n",
      "101303  大发游戏官网\n",
      "112399  在天天中彩票\n",
      "115319  大发快三和值\n",
      "134370 一本道高清无码\n",
      "136533  大发快三计划\n",
      "136840 久久综合久久爱\n",
      "138985 下载安装到手机\n",
      "141777  重庆时时彩的\n",
      "143802  大发快三官网\n",
      "144879  大发快三豹子\n",
      "155245 中华人民共和国\n",
      "156153  彩神争霸网站\n",
      "160344  中国福利彩票\n",
      "160540 彩神争霸邀请码\n",
      "161007  北京赛车如何\n",
      "166783  一级a做爰片\n",
      "170426  大发快三如何\n",
      "178597  久久精品国产\n",
      "182584 热这里只有精品\n",
      "187784  重庆时时彩杀\n",
      "189467  亚洲男人天堂\n",
      "199053  北京赛车投注\n",
      "12284  大发时时彩\n",
      "31385 视频在线观看\n",
      "34342 一区二区三区\n",
      "36308 的天天中彩票\n",
      "46373  大发快三是\n",
      "50020  彩神争霸是\n",
      "86301 视频免费观看\n",
      "86435 《凤凰大参考\n",
      "92481  菲律宾申博\n",
      "95335 一级特黄大片\n",
      "95376 视频在线播放\n",
      "98829 。...\n",
      "\n",
      "\n",
      "98909  彩神争霸的\n",
      "102670 免费视频观看\n",
      "107781 在线观看视频\n",
      "109323  大发快三的\n",
      "114332 电影在线观看\n",
      "117836 免费资料大全\n",
      "122693  北京赛车的\n",
      "126418 无码中文字幕\n",
      "128539 在线观看免费\n",
      "128805 开奖结果查询\n",
      "132560 久久国产视频\n",
      "136710 免费观看视频\n",
      "138225 开奖现场直播\n",
      "138258 在线视频观看\n",
      "149361  北京赛车群\n",
      "157965  亚历山大发\n",
      "170040  香港赛马会\n",
      "174322 娱乐官方网站\n",
      "175645 中文字幕无码\n",
      "177689 免费在线观看\n",
      "180574 免费人成视频\n",
      "180660 中文字幕在线\n",
      "182251 高清在线观看\n",
      "184003 人片在线观看\n",
      "184694 久久综合久久\n",
      "186005 网站免费观看\n",
      "186328 。\n",
      "\n",
      "\n",
      "\n",
      "\n",
      "\n",
      "186863 手机在线观看\n",
      "187540  日本一本道\n",
      "195091 在线视频精品\n",
      "195213  大发彩票网\n",
      "196834 黄色录像影片\n",
      "196877  人人中彩票\n",
      "196917 娱乐彩票注册\n"
     ]
    }
   ],
   "source": [
    "# Sort by length\n",
    "length_dict = dict(sorted(length_dict.items(), key=lambda item: -item[1]))\n",
    "\n",
    "# Print the top 100 chinese words\n",
    "tot = 0\n",
    "for item in length_dict:\n",
    "    try:\n",
    "        #print(f\"detect [{item}] -> {T.decode([item])}\")\n",
    "        if langdetect.detect(T.decode([item])) == \"zh-cn\":\n",
    "            print(item, T.decode([item]))\n",
    "            tot += 1\n",
    "    except Exception as e:\n",
    "        #print(\"Error detecting language for\", item, e)\n",
    "        pass\n",
    "    if tot == 100:\n",
    "        break"
   ]
  },
  {
   "cell_type": "markdown",
   "metadata": {},
   "source": [
    "# 使用 词表 进行 分词"
   ]
  },
  {
   "cell_type": "code",
   "execution_count": 5,
   "metadata": {},
   "outputs": [
    {
     "name": "stdout",
     "output_type": "stream",
     "text": [
      "348\n",
      "562\n"
     ]
    }
   ],
   "source": [
    "text = \"\"\"\n",
    "腾讯控股5月14日发布2024年第一季度财报，受益于新芽业务快速成长和传统业务聚焦提效，腾讯2024年开局保持高质量增长，毛利劲增23%。\n",
    "财报显示，2024年第一季度腾讯实现营收1595.01亿元，毛利838.7亿元，经营利润586.19亿元，净利润502.65亿元，毛利、经营利润以及净利润增速均持续跑赢收入增速，盈利质量显著提升。\n",
    "重点业务板块上，腾讯的广告、企业服务等核心业务找到新打法，视频号、小程序、SaaS等新芽业务集体爆发新能量，共同驱动了业绩增长。一季度腾讯已累计回购达到148亿港元，日均回购金额达8.24亿港元，创历史新高。\n",
    "腾讯董事会主席兼首席执行官马化腾表示，一季度公司在本土市场和国际市场的数款头部游戏中的团队调整初见成效，游戏总流水实现增长，为未来几个季度游戏收入恢复增长打下基础。公司持续培育高质量的收入来源，包括微信视频号及搜一搜广告、小游戏平台服务费及视频号商家技术服务费，推动了公司毛利和经营盈利增幅超过收入增幅。公司致力于将盈余资本回馈股东，加大回购力度，按计划执行2024年超千亿港元的股份回购，提升股息，同时致力于持续投资于AI技术、提升平台及生产高价值内容。\n",
    "\"\"\"\n",
    "print(len(enc_4o.encode(text)))\n",
    "print(len(enc_4.encode(text)))"
   ]
  },
  {
   "cell_type": "markdown",
   "metadata": {},
   "source": [
    "# 语言检测"
   ]
  },
  {
   "cell_type": "code",
   "execution_count": 9,
   "metadata": {},
   "outputs": [
    {
     "data": {
      "text/plain": [
       "'zh-cn'"
      ]
     },
     "execution_count": 9,
     "metadata": {},
     "output_type": "execute_result"
    }
   ],
   "source": [
    "langdetect.detect(\"久久精品国产\")"
   ]
  },
  {
   "cell_type": "code",
   "execution_count": 10,
   "metadata": {},
   "outputs": [],
   "source": [
    "from pydantic import BaseModel\n",
    "\n",
    "class Token(BaseModel):\n",
    "    idx: int    \n",
    "    text: str\n",
    "    lang: str\n",
    "    length: int    \n",
    "\n",
    "\n",
    "def get_chinese_tokens(T: tiktoken.Encoding, sort=False, max: int=-1, verbose=False) -> list:\n",
    "    tokens = []\n",
    "\n",
    "    for i in range(T.n_vocab):\n",
    "        try:\n",
    "            if max >= 0 and len(tokens) >= max:\n",
    "                break\n",
    "            \n",
    "            text = T.decode([i])\n",
    "            lang = langdetect.detect(text)\n",
    "            is_chinese = lang == \"zh-cn\"\n",
    "            length = len(text)\n",
    "\n",
    "            if verbose:\n",
    "                print(f'{i} text=\"{text}\", lang=\"{lang}\", length={length}, is_chinese={is_chinese}')\n",
    "\n",
    "            if is_chinese:\n",
    "                token = Token(idx=i, text=text,lang=lang, length=length)\n",
    "                tokens.append(token)\n",
    "            #rint(token)        \n",
    "        except:\n",
    "            #print(e)\n",
    "            pass\n",
    "    \n",
    "    if sort: \n",
    "        # 按长度倒序排       \n",
    "        tokens = sorted(tokens, key=lambda x: -x.length)\n",
    "        \n",
    "    return tokens"
   ]
  },
  {
   "cell_type": "code",
   "execution_count": 11,
   "metadata": {},
   "outputs": [],
   "source": [
    "tokens =  get_chinese_tokens(enc_4o, max=-1, sort=True, verbose=False)\n",
    "tokens[:100]\n"
   ]
  }
 ],
 "metadata": {
  "kernelspec": {
   "display_name": "Python 3",
   "language": "python",
   "name": "python3"
  },
  "language_info": {
   "codemirror_mode": {
    "name": "ipython",
    "version": 3
   },
   "file_extension": ".py",
   "mimetype": "text/x-python",
   "name": "python",
   "nbconvert_exporter": "python",
   "pygments_lexer": "ipython3",
   "version": "3.9.7"
  }
 },
 "nbformat": 4,
 "nbformat_minor": 2
}
